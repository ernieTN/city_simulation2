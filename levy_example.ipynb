{
 "cells": [
  {
   "cell_type": "markdown",
   "metadata": {},
   "source": [
    "One can use random numbers to model things in the real world. Suppose I wanted to simulate flipping a coin 100 times. The result probably won't be exactly 50 heads but it should be close."
   ]
  },
  {
   "cell_type": "code",
   "execution_count": 75,
   "metadata": {
    "collapsed": false
   },
   "outputs": [
    {
     "name": "stdout",
     "output_type": "stream",
     "text": [
      "1 0 0 1 0 0 1 0 0 1 0 0 1 1 1 0 0 1 1 1 0 0 0 1 0 0 0 0 0 1 0 1 0 1 1 0 0 1 0 0 1 0 0 0 1 0 0 0 1 0 1 0 1 0 0 1 0 0 1 1 1 1 1 1 0 0 1 1 0 1 0 0 0 1 1 1 1 0 0 1 1 1 1 1 1 0 0 0 1 0 0 1 1 0 0 1 1 0 0 1\n",
      "Total number of heads:  47\n",
      "Percentage of heads:  47.0\n"
     ]
    }
   ],
   "source": [
    "heads=0\n",
    "for i in range(100):\n",
    "    x=random.randrange(0,2)    #Creates numbers that are either 0 or 1, a range ends at the end number minus one\n",
    "    print x,\n",
    "    if x==1:\n",
    "        heads = heads +1\n",
    "print\n",
    "print \"Total number of heads: \",heads\n",
    "print \"Percentage of heads: \", heads/100.0*100.0"
   ]
  },
  {
   "cell_type": "markdown",
   "metadata": {},
   "source": [
    "The more trails you perform the more likely the number will be close to 50%."
   ]
  },
  {
   "cell_type": "code",
   "execution_count": 72,
   "metadata": {
    "collapsed": false
   },
   "outputs": [
    {
     "name": "stdout",
     "output_type": "stream",
     "text": [
      "Total number of heads:  5014\n",
      "Percentage of heads:  50.14\n"
     ]
    }
   ],
   "source": [
    "heads=0\n",
    "for i in range(10000):\n",
    "    x=random.randrange(0,2)\n",
    "    if x==1:\n",
    "        heads = heads +1\n",
    "print \"Total number of heads: \",heads\n",
    "print \"Percentage of heads: \", heads/10000.0*100.0"
   ]
  },
  {
   "cell_type": "markdown",
   "metadata": {},
   "source": [
    "## Suppose a city had three levies. The levies are old and each one has a 5% chance of failing in a given year. I'm a city official and I would like to predict the chances of having no failures and therefore no repair costs. The knee jerk guess might be 95%. But actually the chance is (.95)(.95)(.95) which is closer to 86%."
   ]
  },
  {
   "cell_type": "code",
   "execution_count": 10,
   "metadata": {
    "collapsed": false
   },
   "outputs": [
    {
     "name": "stdout",
     "output_type": "stream",
     "text": [
      "0.857375\n"
     ]
    }
   ],
   "source": [
    "zero_failures=0.95**3.0\n",
    "print zero_failures"
   ]
  },
  {
   "cell_type": "markdown",
   "metadata": {},
   "source": [
    "The chances of only one failure is (0.95)(0.95)(0.05)+(0.95)(0.05)(0.95)+(0.05)(0.95)(0.95) = 3(0.95)(0.95)(0.05)"
   ]
  },
  {
   "cell_type": "code",
   "execution_count": 13,
   "metadata": {
    "collapsed": false
   },
   "outputs": [
    {
     "name": "stdout",
     "output_type": "stream",
     "text": [
      "0.135375\n"
     ]
    }
   ],
   "source": [
    "one_failures = 0.95*0.95*0.05*3\n",
    "print one_failures"
   ]
  },
  {
   "cell_type": "markdown",
   "metadata": {},
   "source": [
    "Similiarly the chances of two failures is (0.95)(0.05)(0.05)+(0.05)(0.05)(0.95)+(0.05)(0.95)(0.05) = 3(0.95)(0.05)(0.05)"
   ]
  },
  {
   "cell_type": "code",
   "execution_count": 14,
   "metadata": {
    "collapsed": false
   },
   "outputs": [
    {
     "name": "stdout",
     "output_type": "stream",
     "text": [
      "0.007125\n"
     ]
    }
   ],
   "source": [
    "two_failures=0.95*0.05*0.05*3\n",
    "print two_failures"
   ]
  },
  {
   "cell_type": "markdown",
   "metadata": {},
   "source": [
    "And the very small probability of three failures is (0.05)(0.05)(0.05)"
   ]
  },
  {
   "cell_type": "code",
   "execution_count": 15,
   "metadata": {
    "collapsed": false
   },
   "outputs": [
    {
     "name": "stdout",
     "output_type": "stream",
     "text": [
      "0.000125\n"
     ]
    }
   ],
   "source": [
    "three_failures=0.05**3\n",
    "print three_failures"
   ]
  },
  {
   "cell_type": "markdown",
   "metadata": {},
   "source": [
    "And of course the probabilities of all possible outcomes must sum to 1.0"
   ]
  },
  {
   "cell_type": "code",
   "execution_count": 17,
   "metadata": {
    "collapsed": false
   },
   "outputs": [
    {
     "name": "stdout",
     "output_type": "stream",
     "text": [
      "1.0\n"
     ]
    }
   ],
   "source": [
    "all_events = zero_failures+one_failures+two_failures+three_failures\n",
    "print all_events"
   ]
  },
  {
   "cell_type": "markdown",
   "metadata": {},
   "source": [
    "### But all of this was really exhausting. What if I wrote a short program to simulate this? What if I did a million trials of rolling a 20 sided die three times and calculated the ratios. Will I get similar numbers?"
   ]
  },
  {
   "cell_type": "code",
   "execution_count": 56,
   "metadata": {
    "collapsed": false
   },
   "outputs": [
    {
     "name": "stdout",
     "output_type": "stream",
     "text": [
      "[857509.0, 135190.0, 7176.0, 125.0]\n",
      "[0.857509, 0.13519, 0.007176, 0.000125]\n"
     ]
    }
   ],
   "source": [
    "import random\n",
    "numOfTrials = 1000000\n",
    "numOfLevies = 3\n",
    "for k in range(numOfLevies+1):\n",
    "    events[k] = 0.0            # set the number of events in each catagory to zero to start\n",
    "                               # need to add one to the number of levies to include 0,1,2,or 3 failures\n",
    "                               # events[0] is the number of trials with zero failures and so on\n",
    "for i in range(numOfTrials):\n",
    "    trial_events=0             #at the beginning of each trial set the number of failures to zero\n",
    "                               # 0-18 represents no failure, 19 represents failure \n",
    "    for j in range(numOfLevies):\n",
    "        if random.randrange(0,20) > 18:    # roll a 20 sided die (goes from 0 to 19)\n",
    "            trial_events = trial_events + 1     # each time you roll a 19 that is a failure\n",
    "    events[trial_events]=events[trial_events]+1    #add result of each trial to total number of trials with that result\n",
    "print events\n",
    "events_prob=[]\n",
    "for k in range(numOfLevies+1):\n",
    "    events_prob.append(events[k]/numOfTrials)    #divide by the number of trials to convert into probabilities\n",
    "print events_prob"
   ]
  },
  {
   "cell_type": "code",
   "execution_count": 52,
   "metadata": {
    "collapsed": false
   },
   "outputs": [
    {
     "name": "stdout",
     "output_type": "stream",
     "text": [
      "0.857375 0.135375 0.007125 0.000125\n"
     ]
    }
   ],
   "source": [
    "#Should be similar to hand calculated probabilities\n",
    "print zero_failures,one_failures, two_failures, three_failures"
   ]
  },
  {
   "cell_type": "markdown",
   "metadata": {},
   "source": [
    "What if I wanted to change my model? Suppose another engineer states that the probability of failure rate has increased to 10% because of the record breaking freeze thaw cycles the levies underwent last winter. I could redo all the calculations I made in the beginning using 0.1 and 0.9 instead of 0.95 and 0.05. Or I could change a single number in the program and rerun. Instead of the die number being greater than 18, failure is now represented by a number greater than 17."
   ]
  },
  {
   "cell_type": "code",
   "execution_count": 76,
   "metadata": {
    "collapsed": false
   },
   "outputs": [
    {
     "name": "stdout",
     "output_type": "stream",
     "text": [
      "[728631.0, 243398.0, 26962.0, 1009.0]\n",
      "[0.728631, 0.243398, 0.026962, 0.001009]\n"
     ]
    }
   ],
   "source": [
    "import random\n",
    "numOfTrials = 1000000\n",
    "numOfLevies = 3\n",
    "for k in range(numOfLevies+1):\n",
    "    events[k] = 0.0            # set the number of events in each catagory to zero to start\n",
    "                               # need to add one to the number of levies to include 0,1,2,or 3 failures\n",
    "                               # events[0] is the number of trials with zero failures and so on\n",
    "for i in range(numOfTrials):\n",
    "    trial_events=0             #at the beginning of each trial set the number of failures to zero\n",
    "                               # 0-18 represents no failure, 19 represents failure \n",
    "    for j in range(numOfLevies):\n",
    "        if random.randrange(0,20) > 17:    # roll a 20 sided die (goes from 0 to 19)\n",
    "            trial_events = trial_events + 1     # each time you roll an 18 or 19 that is a failure\n",
    "    events[trial_events]=events[trial_events]+1    #add result of each trial to total number of trials with that result\n",
    "print events\n",
    "events_prob=[]\n",
    "for k in range(numOfLevies+1):\n",
    "    events_prob.append(events[k]/numOfTrials)    #divide by the number of trials to convert into probabilities\n",
    "print events_prob"
   ]
  },
  {
   "cell_type": "markdown",
   "metadata": {},
   "source": [
    "Now the probability of no failure has gone down from approximately 86% to 73%"
   ]
  },
  {
   "cell_type": "markdown",
   "metadata": {},
   "source": [
    "If extra layers of complexity are added, the probabilities can still be calculated by hand but it becomes more and more complicated and laborious to do. There could be more levies, levies that were built at different times and therefore have different probabilities of failure. Different repair costs. Repair vs replace cost decisions. Changing a computer program to take these into account is relatively simple compared to charting out the enormous tree of all possible outcomes."
   ]
  },
  {
   "cell_type": "code",
   "execution_count": null,
   "metadata": {
    "collapsed": true
   },
   "outputs": [],
   "source": []
  }
 ],
 "metadata": {
  "kernelspec": {
   "display_name": "Python 2",
   "language": "python",
   "name": "python2"
  },
  "language_info": {
   "codemirror_mode": {
    "name": "ipython",
    "version": 2
   },
   "file_extension": ".py",
   "mimetype": "text/x-python",
   "name": "python",
   "nbconvert_exporter": "python",
   "pygments_lexer": "ipython2",
   "version": "2.7.11"
  }
 },
 "nbformat": 4,
 "nbformat_minor": 0
}
